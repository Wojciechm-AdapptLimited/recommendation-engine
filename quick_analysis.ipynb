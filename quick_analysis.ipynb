{
 "cells": [
  {
   "cell_type": "code",
   "execution_count": 1,
   "id": "initial_id",
   "metadata": {
    "collapsed": true,
    "ExecuteTime": {
     "end_time": "2023-12-03T23:19:21.551276676Z",
     "start_time": "2023-12-03T23:19:20.826936297Z"
    }
   },
   "outputs": [],
   "source": [
    "import pandas as pd\n",
    "import numpy as np\n",
    "import matplotlib.pyplot as plt\n",
    "\n",
    "%matplotlib inline"
   ]
  },
  {
   "cell_type": "code",
   "execution_count": 2,
   "outputs": [],
   "source": [
    "df_index = pd.read_csv('data/index.csv')\n",
    "df_preprocessed = pd.read_csv('data/articles_preprocessed.csv')"
   ],
   "metadata": {
    "collapsed": false,
    "ExecuteTime": {
     "end_time": "2023-12-03T23:19:23.501172378Z",
     "start_time": "2023-12-03T23:19:21.592638384Z"
    }
   },
   "id": "de301d642d89b770"
  },
  {
   "cell_type": "code",
   "execution_count": 3,
   "outputs": [
    {
     "data": {
      "text/plain": "title          Cosmere\naa                 0.0\nab                 0.0\naback              0.0\nabamabar           0.0\n                ...   \nzoom               0.0\nzoroastrian        0.0\nzu                 0.0\nzuln               0.0\nzyardil            0.0\nName: 0, Length: 11945, dtype: object"
     },
     "execution_count": 3,
     "metadata": {},
     "output_type": "execute_result"
    }
   ],
   "source": [
    "df_index.iloc[0]"
   ],
   "metadata": {
    "collapsed": false,
    "ExecuteTime": {
     "end_time": "2023-12-03T23:19:23.515707323Z",
     "start_time": "2023-12-03T23:19:23.511576697Z"
    }
   },
   "id": "67dce352ab07080e"
  },
  {
   "cell_type": "code",
   "execution_count": 4,
   "outputs": [
    {
     "data": {
      "text/plain": "        title                                                url  \\\n0     Cosmere                https://coppermind.net/wiki/Cosmere   \n1  Shattering  https://coppermind.net/wiki/Shattering_of_Adon...   \n2       Shard                  https://coppermind.net/wiki/Shard   \n3  Adonalsium             https://coppermind.net/wiki/Adonalsium   \n4       Earth                  https://coppermind.net/wiki/Earth   \n\n                                             article  \n0  stumbl someth far far bigger polit littl plane...  \n1  sixteen peopl togeth kill adonalsium rip apart...  \n2  shard god piec god ruin preserv autonomi culti...  \n3  delv search abl come singl name adonalsium yet...  \n4  disambigu page list articl associ titl intern ...  ",
      "text/html": "<div>\n<style scoped>\n    .dataframe tbody tr th:only-of-type {\n        vertical-align: middle;\n    }\n\n    .dataframe tbody tr th {\n        vertical-align: top;\n    }\n\n    .dataframe thead th {\n        text-align: right;\n    }\n</style>\n<table border=\"1\" class=\"dataframe\">\n  <thead>\n    <tr style=\"text-align: right;\">\n      <th></th>\n      <th>title</th>\n      <th>url</th>\n      <th>article</th>\n    </tr>\n  </thead>\n  <tbody>\n    <tr>\n      <th>0</th>\n      <td>Cosmere</td>\n      <td>https://coppermind.net/wiki/Cosmere</td>\n      <td>stumbl someth far far bigger polit littl plane...</td>\n    </tr>\n    <tr>\n      <th>1</th>\n      <td>Shattering</td>\n      <td>https://coppermind.net/wiki/Shattering_of_Adon...</td>\n      <td>sixteen peopl togeth kill adonalsium rip apart...</td>\n    </tr>\n    <tr>\n      <th>2</th>\n      <td>Shard</td>\n      <td>https://coppermind.net/wiki/Shard</td>\n      <td>shard god piec god ruin preserv autonomi culti...</td>\n    </tr>\n    <tr>\n      <th>3</th>\n      <td>Adonalsium</td>\n      <td>https://coppermind.net/wiki/Adonalsium</td>\n      <td>delv search abl come singl name adonalsium yet...</td>\n    </tr>\n    <tr>\n      <th>4</th>\n      <td>Earth</td>\n      <td>https://coppermind.net/wiki/Earth</td>\n      <td>disambigu page list articl associ titl intern ...</td>\n    </tr>\n  </tbody>\n</table>\n</div>"
     },
     "execution_count": 4,
     "metadata": {},
     "output_type": "execute_result"
    }
   ],
   "source": [
    "df_preprocessed.head()"
   ],
   "metadata": {
    "collapsed": false,
    "ExecuteTime": {
     "end_time": "2023-12-03T23:19:23.554092064Z",
     "start_time": "2023-12-03T23:19:23.517197971Z"
    }
   },
   "id": "f3e9e0304606dac1"
  },
  {
   "cell_type": "code",
   "execution_count": 5,
   "outputs": [
    {
     "data": {
      "text/plain": "        title                                                url  \\\n0     Cosmere                https://coppermind.net/wiki/Cosmere   \n1  Shattering  https://coppermind.net/wiki/Shattering_of_Adon...   \n2       Shard                  https://coppermind.net/wiki/Shard   \n3  Adonalsium             https://coppermind.net/wiki/Adonalsium   \n4       Earth                  https://coppermind.net/wiki/Earth   \n\n                                             article  length  \n0  stumbl someth far far bigger polit littl plane...    4611  \n1  sixteen peopl togeth kill adonalsium rip apart...     196  \n2  shard god piec god ruin preserv autonomi culti...    1786  \n3  delv search abl come singl name adonalsium yet...     776  \n4  disambigu page list articl associ titl intern ...      25  ",
      "text/html": "<div>\n<style scoped>\n    .dataframe tbody tr th:only-of-type {\n        vertical-align: middle;\n    }\n\n    .dataframe tbody tr th {\n        vertical-align: top;\n    }\n\n    .dataframe thead th {\n        text-align: right;\n    }\n</style>\n<table border=\"1\" class=\"dataframe\">\n  <thead>\n    <tr style=\"text-align: right;\">\n      <th></th>\n      <th>title</th>\n      <th>url</th>\n      <th>article</th>\n      <th>length</th>\n    </tr>\n  </thead>\n  <tbody>\n    <tr>\n      <th>0</th>\n      <td>Cosmere</td>\n      <td>https://coppermind.net/wiki/Cosmere</td>\n      <td>stumbl someth far far bigger polit littl plane...</td>\n      <td>4611</td>\n    </tr>\n    <tr>\n      <th>1</th>\n      <td>Shattering</td>\n      <td>https://coppermind.net/wiki/Shattering_of_Adon...</td>\n      <td>sixteen peopl togeth kill adonalsium rip apart...</td>\n      <td>196</td>\n    </tr>\n    <tr>\n      <th>2</th>\n      <td>Shard</td>\n      <td>https://coppermind.net/wiki/Shard</td>\n      <td>shard god piec god ruin preserv autonomi culti...</td>\n      <td>1786</td>\n    </tr>\n    <tr>\n      <th>3</th>\n      <td>Adonalsium</td>\n      <td>https://coppermind.net/wiki/Adonalsium</td>\n      <td>delv search abl come singl name adonalsium yet...</td>\n      <td>776</td>\n    </tr>\n    <tr>\n      <th>4</th>\n      <td>Earth</td>\n      <td>https://coppermind.net/wiki/Earth</td>\n      <td>disambigu page list articl associ titl intern ...</td>\n      <td>25</td>\n    </tr>\n  </tbody>\n</table>\n</div>"
     },
     "execution_count": 5,
     "metadata": {},
     "output_type": "execute_result"
    }
   ],
   "source": [
    "df_preprocessed[\"length\"] = df_preprocessed[\"article\"].str.split().str.len()\n",
    "df_preprocessed.head()"
   ],
   "metadata": {
    "collapsed": false,
    "ExecuteTime": {
     "end_time": "2023-12-03T23:19:23.607294727Z",
     "start_time": "2023-12-03T23:19:23.555712969Z"
    }
   },
   "id": "7c80e9b9a1266052"
  },
  {
   "cell_type": "code",
   "execution_count": 6,
   "outputs": [
    {
     "data": {
      "text/plain": "                title                                                url  \\\n0             Cosmere                https://coppermind.net/wiki/Cosmere   \n1          Shattering  https://coppermind.net/wiki/Shattering_of_Adon...   \n2               Shard                  https://coppermind.net/wiki/Shard   \n3          Adonalsium             https://coppermind.net/wiki/Adonalsium   \n4               Earth                  https://coppermind.net/wiki/Earth   \n..                ...                                                ...   \n995   Category:Metals                  https://coppermind.net/wiki/Metal   \n996        Tinningdar             https://coppermind.net/wiki/Tinningdar   \n997  Trell (Trellism)               https://coppermind.net/wiki/Trellism   \n998           Charlie                https://coppermind.net/wiki/Charlie   \n999         First Gem              https://coppermind.net/wiki/First_Gem   \n\n                                               article  length  \n0    stumbl someth far far bigger polit littl plane...    4611  \n1    sixteen peopl togeth kill adonalsium rip apart...     196  \n2    shard god piec god ruin preserv autonomi culti...    1786  \n3    delv search abl come singl name adonalsium yet...     776  \n4    disambigu page list articl associ titl intern ...      25  \n..                                                 ...     ...  \n995  categori known metal inform glyph use see stee...       9  \n996  tinningdar name tradit terri robe worn scadria...     160  \n997  look small spike hand heard name year ago spok...     470  \n998  might said way word word often got away hoid c...     521  \n999  first gem topaz magic properti hoid carri took...     101  \n\n[1000 rows x 4 columns]",
      "text/html": "<div>\n<style scoped>\n    .dataframe tbody tr th:only-of-type {\n        vertical-align: middle;\n    }\n\n    .dataframe tbody tr th {\n        vertical-align: top;\n    }\n\n    .dataframe thead th {\n        text-align: right;\n    }\n</style>\n<table border=\"1\" class=\"dataframe\">\n  <thead>\n    <tr style=\"text-align: right;\">\n      <th></th>\n      <th>title</th>\n      <th>url</th>\n      <th>article</th>\n      <th>length</th>\n    </tr>\n  </thead>\n  <tbody>\n    <tr>\n      <th>0</th>\n      <td>Cosmere</td>\n      <td>https://coppermind.net/wiki/Cosmere</td>\n      <td>stumbl someth far far bigger polit littl plane...</td>\n      <td>4611</td>\n    </tr>\n    <tr>\n      <th>1</th>\n      <td>Shattering</td>\n      <td>https://coppermind.net/wiki/Shattering_of_Adon...</td>\n      <td>sixteen peopl togeth kill adonalsium rip apart...</td>\n      <td>196</td>\n    </tr>\n    <tr>\n      <th>2</th>\n      <td>Shard</td>\n      <td>https://coppermind.net/wiki/Shard</td>\n      <td>shard god piec god ruin preserv autonomi culti...</td>\n      <td>1786</td>\n    </tr>\n    <tr>\n      <th>3</th>\n      <td>Adonalsium</td>\n      <td>https://coppermind.net/wiki/Adonalsium</td>\n      <td>delv search abl come singl name adonalsium yet...</td>\n      <td>776</td>\n    </tr>\n    <tr>\n      <th>4</th>\n      <td>Earth</td>\n      <td>https://coppermind.net/wiki/Earth</td>\n      <td>disambigu page list articl associ titl intern ...</td>\n      <td>25</td>\n    </tr>\n    <tr>\n      <th>...</th>\n      <td>...</td>\n      <td>...</td>\n      <td>...</td>\n      <td>...</td>\n    </tr>\n    <tr>\n      <th>995</th>\n      <td>Category:Metals</td>\n      <td>https://coppermind.net/wiki/Metal</td>\n      <td>categori known metal inform glyph use see stee...</td>\n      <td>9</td>\n    </tr>\n    <tr>\n      <th>996</th>\n      <td>Tinningdar</td>\n      <td>https://coppermind.net/wiki/Tinningdar</td>\n      <td>tinningdar name tradit terri robe worn scadria...</td>\n      <td>160</td>\n    </tr>\n    <tr>\n      <th>997</th>\n      <td>Trell (Trellism)</td>\n      <td>https://coppermind.net/wiki/Trellism</td>\n      <td>look small spike hand heard name year ago spok...</td>\n      <td>470</td>\n    </tr>\n    <tr>\n      <th>998</th>\n      <td>Charlie</td>\n      <td>https://coppermind.net/wiki/Charlie</td>\n      <td>might said way word word often got away hoid c...</td>\n      <td>521</td>\n    </tr>\n    <tr>\n      <th>999</th>\n      <td>First Gem</td>\n      <td>https://coppermind.net/wiki/First_Gem</td>\n      <td>first gem topaz magic properti hoid carri took...</td>\n      <td>101</td>\n    </tr>\n  </tbody>\n</table>\n<p>1000 rows × 4 columns</p>\n</div>"
     },
     "execution_count": 6,
     "metadata": {},
     "output_type": "execute_result"
    }
   ],
   "source": [
    "df_preprocessed"
   ],
   "metadata": {
    "collapsed": false,
    "ExecuteTime": {
     "end_time": "2023-12-03T23:19:23.674580496Z",
     "start_time": "2023-12-03T23:19:23.591108970Z"
    }
   },
   "id": "2bd690a1f2351c49"
  },
  {
   "cell_type": "code",
   "execution_count": 7,
   "outputs": [
    {
     "data": {
      "text/plain": "count     1000.000000\nmean       342.042000\nstd       1100.393622\nmin          5.000000\n25%         44.000000\n50%        126.500000\n75%        317.500000\nmax      20863.000000\nName: length, dtype: float64"
     },
     "execution_count": 7,
     "metadata": {},
     "output_type": "execute_result"
    }
   ],
   "source": [
    "df_preprocessed[\"length\"].describe()"
   ],
   "metadata": {
    "collapsed": false,
    "ExecuteTime": {
     "end_time": "2023-12-03T23:19:23.676837698Z",
     "start_time": "2023-12-03T23:19:23.656709513Z"
    }
   },
   "id": "cd7f0ff50de82223"
  },
  {
   "cell_type": "code",
   "execution_count": 8,
   "outputs": [
    {
     "data": {
      "text/plain": "[('kaladin', 3330),\n ('one', 2256),\n ('use', 2085),\n ('shallan', 1872),\n ('dalinar', 1826),\n ('also', 1513),\n ('like', 1387),\n ('would', 1373),\n ('time', 1276),\n ('peopl', 1118)]"
     },
     "execution_count": 8,
     "metadata": {},
     "output_type": "execute_result"
    }
   ],
   "source": [
    "words = {}\n",
    "for article in df_preprocessed[\"article\"]:\n",
    "    for word in article.split():\n",
    "        if word in words:\n",
    "            words[word] += 1\n",
    "        else:\n",
    "            words[word] = 1\n",
    "\n",
    "sorted_words = sorted(words.items(), key=lambda x: x[1], reverse=True)\n",
    "sorted_words[:10]"
   ],
   "metadata": {
    "collapsed": false,
    "ExecuteTime": {
     "end_time": "2023-12-03T23:19:23.726646312Z",
     "start_time": "2023-12-03T23:19:23.656896999Z"
    }
   },
   "id": "9054fd8bd8a66f18"
  },
  {
   "cell_type": "code",
   "execution_count": 9,
   "outputs": [
    {
     "data": {
      "text/plain": "[('ador', 1),\n ('reenact', 1),\n ('forecannon', 1),\n ('chuck', 1),\n ('anecdot', 1),\n ('musicianship', 1),\n ('kernel', 1),\n ('apocalypt', 1),\n ('tregal', 1)]"
     },
     "execution_count": 9,
     "metadata": {},
     "output_type": "execute_result"
    }
   ],
   "source": [
    "sorted_words[-1:-10:-1]"
   ],
   "metadata": {
    "collapsed": false,
    "ExecuteTime": {
     "end_time": "2023-12-03T23:22:02.741514493Z",
     "start_time": "2023-12-03T23:22:02.693339912Z"
    }
   },
   "id": "4a5a3951d5d4d17b"
  },
  {
   "cell_type": "code",
   "execution_count": 10,
   "outputs": [
    {
     "data": {
      "text/plain": "<Axes: >"
     },
     "execution_count": 10,
     "metadata": {},
     "output_type": "execute_result"
    },
    {
     "data": {
      "text/plain": "<Figure size 640x480 with 1 Axes>",
      "image/png": "[encoded data removed]"
     },
     "metadata": {},
     "output_type": "display_data"
    }
   ],
   "source": [
    "df_preprocessed[\"length\"].hist(bins=100)"
   ],
   "metadata": {
    "collapsed": false,
    "ExecuteTime": {
     "end_time": "2023-12-03T23:24:48.325180047Z",
     "start_time": "2023-12-03T23:24:48.031062778Z"
    }
   },
   "id": "d2bc233932bb88bf"
  }
 ],
 "metadata": {
  "kernelspec": {
   "display_name": "Python 3",
   "language": "python",
   "name": "python3"
  },
  "language_info": {
   "codemirror_mode": {
    "name": "ipython",
    "version": 2
   },
   "file_extension": ".py",
   "mimetype": "text/x-python",
   "name": "python",
   "nbconvert_exporter": "python",
   "pygments_lexer": "ipython2",
   "version": "2.7.6"
  }
 },
 "nbformat": 4,
 "nbformat_minor": 5
}
